{
  "nbformat": 4,
  "nbformat_minor": 0,
  "metadata": {
    "colab": {
      "name": "Gato_Cachorro_Deep_Learning",
      "provenance": []
    },
    "kernelspec": {
      "name": "python3",
      "display_name": "Python 3"
    },
    "accelerator": "TPU"
  },
  "cells": [
    {
      "cell_type": "code",
      "metadata": {
        "id": "iI3yRtkmbtdP"
      },
      "source": [
        "from keras.models import Sequential\n",
        "from keras.layers import Conv2D, MaxPooling2D, Flatten, Dense, Dropout\n",
        "from keras.layers.normalization import BatchNormalization\n",
        "from keras.preprocessing.image import ImageDataGenerator\n",
        "import numpy as np\n",
        "from keras.preprocessing import image"
      ],
      "execution_count": null,
      "outputs": []
    },
    {
      "cell_type": "code",
      "metadata": {
        "id": "Iwz_8Y4pcNjE"
      },
      "source": [
        "classificador = Sequential()"
      ],
      "execution_count": null,
      "outputs": []
    },
    {
      "cell_type": "code",
      "metadata": {
        "id": "itmULnZKk8LO"
      },
      "source": [
        "classificador.add(Conv2D(32, (3,3), input_shape=(64, 64, 3), activation='relu'))"
      ],
      "execution_count": null,
      "outputs": []
    },
    {
      "cell_type": "code",
      "metadata": {
        "id": "IX5E8hIjlbWf"
      },
      "source": [
        "classificador.add(BatchNormalization())"
      ],
      "execution_count": null,
      "outputs": []
    },
    {
      "cell_type": "code",
      "metadata": {
        "id": "EAtdSmTjld9d"
      },
      "source": [
        "classificador.add(MaxPooling2D(pool_size=(2,2)))"
      ],
      "execution_count": null,
      "outputs": []
    },
    {
      "cell_type": "code",
      "metadata": {
        "id": "_EdswH4bln6I"
      },
      "source": [
        "classificador.add(Conv2D(32, (3,3), input_shape=(64, 64, 3), activation='relu'))"
      ],
      "execution_count": null,
      "outputs": []
    },
    {
      "cell_type": "code",
      "metadata": {
        "id": "i7uuPlzBlqLw"
      },
      "source": [
        "classificador.add(BatchNormalization())"
      ],
      "execution_count": null,
      "outputs": []
    },
    {
      "cell_type": "code",
      "metadata": {
        "id": "ChRkwcJ2lrXr"
      },
      "source": [
        "classificador.add(MaxPooling2D(pool_size=(2,2)))"
      ],
      "execution_count": null,
      "outputs": []
    },
    {
      "cell_type": "code",
      "metadata": {
        "id": "TJjWUh54lu5F"
      },
      "source": [
        "classificador.add(Flatten())"
      ],
      "execution_count": null,
      "outputs": []
    },
    {
      "cell_type": "code",
      "metadata": {
        "id": "CNubSYNXlxvR"
      },
      "source": [
        "classificador.add(Dense(units=128, activation='relu'))"
      ],
      "execution_count": null,
      "outputs": []
    },
    {
      "cell_type": "code",
      "metadata": {
        "id": "UDhbOR59l3sJ"
      },
      "source": [
        "classificador.add(Dropout(0.2))"
      ],
      "execution_count": null,
      "outputs": []
    },
    {
      "cell_type": "code",
      "metadata": {
        "id": "Z2wYjSXHl9NB"
      },
      "source": [
        "classificador.add(Dense(units=128, activation='relu'))"
      ],
      "execution_count": null,
      "outputs": []
    },
    {
      "cell_type": "code",
      "metadata": {
        "id": "V3efc2akmIIT"
      },
      "source": [
        "classificador.add(Dropout(0.2))"
      ],
      "execution_count": null,
      "outputs": []
    },
    {
      "cell_type": "code",
      "metadata": {
        "id": "rEggeb8pmMmc"
      },
      "source": [
        "classificador.add(Dense(units=1, activation='sigmoid'))"
      ],
      "execution_count": null,
      "outputs": []
    },
    {
      "cell_type": "code",
      "metadata": {
        "id": "yvlaRmoNmTiN"
      },
      "source": [
        "classificador.compile(optimizer='adam', loss='binary_crossentropy', metrics=['accuracy'])"
      ],
      "execution_count": null,
      "outputs": []
    },
    {
      "cell_type": "code",
      "metadata": {
        "id": "Cq59BMl8mdU2"
      },
      "source": [
        "gerador_treinamento = ImageDataGenerator(rescale=1./255, rotation_range=7, horizontal_flip=True, shear_range=0.2, height_shift_range=0.07, zoom_range=0.2)"
      ],
      "execution_count": null,
      "outputs": []
    },
    {
      "cell_type": "code",
      "metadata": {
        "id": "4Y_NC9dan-Us"
      },
      "source": [
        "gerador_teste = ImageDataGenerator(rescale=1./255)"
      ],
      "execution_count": null,
      "outputs": []
    },
    {
      "cell_type": "code",
      "metadata": {
        "id": "hqgXDaUCoMwm",
        "outputId": "71ef2dbf-d51b-41d8-bfd8-2cc644be0c49",
        "colab": {
          "base_uri": "https://localhost:8080/",
          "height": 34
        }
      },
      "source": [
        "base_treinamento = gerador_treinamento.flow_from_directory('drive/My Drive/DataScience/gatos_cachorros/dataset/dataset/training_set', target_size=(64,64), batch_size=32, class_mode='binary')"
      ],
      "execution_count": null,
      "outputs": [
        {
          "output_type": "stream",
          "text": [
            "Found 4000 images belonging to 2 classes.\n"
          ],
          "name": "stdout"
        }
      ]
    },
    {
      "cell_type": "code",
      "metadata": {
        "id": "RQDUh92wpD0T",
        "outputId": "89d7ee5d-8649-4e95-979e-4907b7d372f3",
        "colab": {
          "base_uri": "https://localhost:8080/",
          "height": 34
        }
      },
      "source": [
        "base_teste = gerador_teste.flow_from_directory('drive/My Drive/DataScience/gatos_cachorros/dataset/dataset/test_set', target_size=(64,64), batch_size=32, class_mode='binary')"
      ],
      "execution_count": null,
      "outputs": [
        {
          "output_type": "stream",
          "text": [
            "Found 1000 images belonging to 2 classes.\n"
          ],
          "name": "stdout"
        }
      ]
    },
    {
      "cell_type": "code",
      "metadata": {
        "id": "a03a8gZcpxkq",
        "outputId": "ed563a30-9443-429c-a876-03423f357383",
        "colab": {
          "base_uri": "https://localhost:8080/",
          "height": 1000
        }
      },
      "source": [
        "classificador.fit_generator(base_treinamento, steps_per_epoch=4000/32,epochs=30, validation_data=base_teste, validation_steps=1000/32)"
      ],
      "execution_count": null,
      "outputs": [
        {
          "output_type": "stream",
          "text": [
            "Epoch 1/30\n",
            "125/125 [==============================] - 43s 341ms/step - loss: 0.3761 - accuracy: 0.8285 - val_loss: 0.3872 - val_accuracy: 0.7520\n",
            "Epoch 2/30\n",
            "125/125 [==============================] - 40s 321ms/step - loss: 0.3748 - accuracy: 0.8207 - val_loss: 0.3209 - val_accuracy: 0.7490\n",
            "Epoch 3/30\n",
            "125/125 [==============================] - 40s 321ms/step - loss: 0.3549 - accuracy: 0.8468 - val_loss: 0.6624 - val_accuracy: 0.6950\n",
            "Epoch 4/30\n",
            "125/125 [==============================] - 40s 319ms/step - loss: 0.3441 - accuracy: 0.8518 - val_loss: 0.8957 - val_accuracy: 0.7960\n",
            "Epoch 5/30\n",
            "125/125 [==============================] - 40s 321ms/step - loss: 0.3253 - accuracy: 0.8602 - val_loss: 0.5926 - val_accuracy: 0.7780\n",
            "Epoch 6/30\n",
            "125/125 [==============================] - 40s 322ms/step - loss: 0.3400 - accuracy: 0.8487 - val_loss: 0.3350 - val_accuracy: 0.7940\n",
            "Epoch 7/30\n",
            "125/125 [==============================] - 40s 322ms/step - loss: 0.3214 - accuracy: 0.8587 - val_loss: 0.4657 - val_accuracy: 0.7610\n",
            "Epoch 8/30\n",
            "125/125 [==============================] - 41s 327ms/step - loss: 0.3230 - accuracy: 0.8605 - val_loss: 1.3750 - val_accuracy: 0.7790\n",
            "Epoch 9/30\n",
            "125/125 [==============================] - 41s 324ms/step - loss: 0.3009 - accuracy: 0.8673 - val_loss: 0.5175 - val_accuracy: 0.7770\n",
            "Epoch 10/30\n",
            "125/125 [==============================] - 41s 326ms/step - loss: 0.2817 - accuracy: 0.8832 - val_loss: 0.0705 - val_accuracy: 0.7830\n",
            "Epoch 11/30\n",
            "125/125 [==============================] - 40s 322ms/step - loss: 0.2759 - accuracy: 0.8798 - val_loss: 0.5692 - val_accuracy: 0.7460\n",
            "Epoch 12/30\n",
            "125/125 [==============================] - 40s 323ms/step - loss: 0.2922 - accuracy: 0.8770 - val_loss: 0.1392 - val_accuracy: 0.7740\n",
            "Epoch 13/30\n",
            "125/125 [==============================] - 40s 323ms/step - loss: 0.2835 - accuracy: 0.8765 - val_loss: 0.3334 - val_accuracy: 0.7830\n",
            "Epoch 14/30\n",
            "125/125 [==============================] - 40s 323ms/step - loss: 0.2596 - accuracy: 0.8920 - val_loss: 1.7284 - val_accuracy: 0.7220\n",
            "Epoch 15/30\n",
            "125/125 [==============================] - 40s 320ms/step - loss: 0.2681 - accuracy: 0.8813 - val_loss: 0.3050 - val_accuracy: 0.7490\n",
            "Epoch 16/30\n",
            "125/125 [==============================] - 40s 320ms/step - loss: 0.2567 - accuracy: 0.8930 - val_loss: 1.4978 - val_accuracy: 0.7830\n",
            "Epoch 17/30\n",
            "125/125 [==============================] - 41s 325ms/step - loss: 0.2486 - accuracy: 0.8972 - val_loss: 0.2766 - val_accuracy: 0.7480\n",
            "Epoch 18/30\n",
            "125/125 [==============================] - 40s 324ms/step - loss: 0.2439 - accuracy: 0.9013 - val_loss: 0.1103 - val_accuracy: 0.7850\n",
            "Epoch 19/30\n",
            "125/125 [==============================] - 40s 317ms/step - loss: 0.2236 - accuracy: 0.9035 - val_loss: 0.8322 - val_accuracy: 0.7860\n",
            "Epoch 20/30\n",
            "125/125 [==============================] - 41s 325ms/step - loss: 0.2314 - accuracy: 0.9072 - val_loss: 0.1524 - val_accuracy: 0.7720\n",
            "Epoch 21/30\n",
            "125/125 [==============================] - 40s 319ms/step - loss: 0.2370 - accuracy: 0.8990 - val_loss: 0.8948 - val_accuracy: 0.7910\n",
            "Epoch 22/30\n",
            "125/125 [==============================] - 40s 320ms/step - loss: 0.2183 - accuracy: 0.9080 - val_loss: 0.8264 - val_accuracy: 0.7900\n",
            "Epoch 23/30\n",
            "125/125 [==============================] - 41s 324ms/step - loss: 0.2216 - accuracy: 0.9025 - val_loss: 0.2246 - val_accuracy: 0.7620\n",
            "Epoch 24/30\n",
            "125/125 [==============================] - 40s 323ms/step - loss: 0.2020 - accuracy: 0.9150 - val_loss: 0.1699 - val_accuracy: 0.7560\n",
            "Epoch 25/30\n",
            "125/125 [==============================] - 41s 329ms/step - loss: 0.1997 - accuracy: 0.9178 - val_loss: 0.9704 - val_accuracy: 0.7730\n",
            "Epoch 26/30\n",
            "125/125 [==============================] - 42s 334ms/step - loss: 0.1962 - accuracy: 0.9175 - val_loss: 0.7893 - val_accuracy: 0.7670\n",
            "Epoch 27/30\n",
            "125/125 [==============================] - 40s 320ms/step - loss: 0.2011 - accuracy: 0.9208 - val_loss: 2.2892 - val_accuracy: 0.7840\n",
            "Epoch 28/30\n",
            "125/125 [==============================] - 40s 318ms/step - loss: 0.2079 - accuracy: 0.9190 - val_loss: 3.7026 - val_accuracy: 0.7660\n",
            "Epoch 29/30\n",
            "125/125 [==============================] - 40s 320ms/step - loss: 0.1986 - accuracy: 0.9187 - val_loss: 0.2097 - val_accuracy: 0.7710\n",
            "Epoch 30/30\n",
            "125/125 [==============================] - 40s 321ms/step - loss: 0.1909 - accuracy: 0.9222 - val_loss: 1.1643 - val_accuracy: 0.7900\n"
          ],
          "name": "stdout"
        },
        {
          "output_type": "execute_result",
          "data": {
            "text/plain": [
              "<keras.callbacks.callbacks.History at 0x7f8130231240>"
            ]
          },
          "metadata": {
            "tags": []
          },
          "execution_count": 57
        }
      ]
    },
    {
      "cell_type": "code",
      "metadata": {
        "id": "wX1Br8ujBLdm"
      },
      "source": [
        "imagem_teste = image.load_img('/content/drive/My Drive/DataScience/gatos_cachorros/dataset/dataset/test_set/cachorro/dog.3613.jpg', target_size=(64,64))"
      ],
      "execution_count": null,
      "outputs": []
    },
    {
      "cell_type": "code",
      "metadata": {
        "id": "0Zct6znEqHfm"
      },
      "source": [
        "imagem_teste = image.img_to_array(imagem_teste)"
      ],
      "execution_count": null,
      "outputs": []
    },
    {
      "cell_type": "code",
      "metadata": {
        "id": "FOple9dvB5rE"
      },
      "source": [
        "imagem_teste /= 255"
      ],
      "execution_count": null,
      "outputs": []
    },
    {
      "cell_type": "code",
      "metadata": {
        "id": "Jjr66oyjCCPj"
      },
      "source": [
        "imagem_teste = np.expand_dims(imagem_teste, axis = 0)"
      ],
      "execution_count": null,
      "outputs": []
    },
    {
      "cell_type": "code",
      "metadata": {
        "id": "RAvKqTuBCJIk"
      },
      "source": [
        "previsao = classificador.predict(imagem_teste)"
      ],
      "execution_count": null,
      "outputs": []
    },
    {
      "cell_type": "code",
      "metadata": {
        "id": "Xg4zqameCTIl",
        "outputId": "56914801-2cb9-4f18-f537-19691a664aac",
        "colab": {
          "base_uri": "https://localhost:8080/",
          "height": 34
        }
      },
      "source": [
        "previsao"
      ],
      "execution_count": null,
      "outputs": [
        {
          "output_type": "execute_result",
          "data": {
            "text/plain": [
              "array([[0.2201375]], dtype=float32)"
            ]
          },
          "metadata": {
            "tags": []
          },
          "execution_count": 88
        }
      ]
    },
    {
      "cell_type": "code",
      "metadata": {
        "id": "FLBjlhCjEVR-",
        "outputId": "b2c018d7-57e1-4824-a85b-e52f1db6aee7",
        "colab": {
          "base_uri": "https://localhost:8080/",
          "height": 34
        }
      },
      "source": [
        "base_treinamento.class_indices"
      ],
      "execution_count": null,
      "outputs": [
        {
          "output_type": "execute_result",
          "data": {
            "text/plain": [
              "{'cachorro': 0, 'gato': 1}"
            ]
          },
          "metadata": {
            "tags": []
          },
          "execution_count": 89
        }
      ]
    },
    {
      "cell_type": "code",
      "metadata": {
        "id": "NBFYI9dTGT83",
        "outputId": "27463664-997b-497d-99f7-c7280ee5b3dc",
        "colab": {
          "base_uri": "https://localhost:8080/",
          "height": 34
        }
      },
      "source": [
        "if previsao > 0.5:\n",
        "  print(\"Gato\")\n",
        "else:\n",
        "  print(\"Cachorro\")"
      ],
      "execution_count": null,
      "outputs": [
        {
          "output_type": "stream",
          "text": [
            "Cachorro\n"
          ],
          "name": "stdout"
        }
      ]
    },
    {
      "cell_type": "code",
      "metadata": {
        "id": "YGAOETrW7ZjR"
      },
      "source": [
        ""
      ],
      "execution_count": null,
      "outputs": []
    }
  ]
}